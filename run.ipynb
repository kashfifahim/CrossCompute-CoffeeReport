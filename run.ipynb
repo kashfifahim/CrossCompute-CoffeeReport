{
 "cells": [
  {
   "cell_type": "markdown",
   "id": "25360042-e6d8-4727-99e5-da2acb87a4ef",
   "metadata": {},
   "source": [
    "- Data set\n",
    "- Examining to find questions to answer\n",
    "- How much of the question can be answered without work\n",
    "- 1. Cleaning super specific to this data set or reusable for other datasets\n",
    "- "
   ]
  },
  {
   "cell_type": "markdown",
   "id": "cdcb2ca8-8bae-457c-9a40-336e9babf983",
   "metadata": {},
   "source": [
    "Option 2: Find an interesting dataset\n",
    "https://www.kaggle.com/datasets/hanifalirsyad/coffee-scrap-coffeereview/versions/2\n",
    "price based on location\n",
    "which region has the most popular coffee\n",
    "which roast is most preferred (regardless of location or origin)\n",
    "agtron = roast as a number\n",
    "is there a correlation between agtron and [aroma, acid, body, flavor] -> stats\n"
   ]
  },
  {
   "cell_type": "markdown",
   "id": "748c9139-f9bd-4699-b759-000babc6f656",
   "metadata": {},
   "source": [
    "Origin with the most reviews"
   ]
  },
  {
   "cell_type": "code",
   "execution_count": 7,
   "id": "73b3515f-bca5-4cef-b177-ed52999d00fa",
   "metadata": {},
   "outputs": [],
   "source": [
    "from os import getenv\n",
    "from pathlib import Path\n",
    "\n",
    "input_folder = Path(getenv(\n",
    "    'CROSSCOMPUTE_INPUT_FOLDER', 'batches/standard/input'))\n",
    "output_folder = Path(getenv(\n",
    "    'CROSSCOMPUTE_OUTPUT_FOLDER', 'batches/standard/output'))\n",
    "output_folder.mkdir(parents=True, exist_ok=True)\n",
    "datasets_folder = Path('datasets')"
   ]
  },
  {
   "cell_type": "code",
   "execution_count": 8,
   "id": "48930a52-0d53-4f5d-b07d-eb441297220d",
   "metadata": {},
   "outputs": [],
   "source": [
    "import pandas as pd"
   ]
  },
  {
   "cell_type": "code",
   "execution_count": 13,
   "id": "7efaede9-03f0-4f4f-901d-1073d564ebdd",
   "metadata": {},
   "outputs": [],
   "source": [
    "coffee = pd.read_csv(datasets_folder/'coffee_df.csv')"
   ]
  },
  {
   "cell_type": "code",
   "execution_count": 17,
   "id": "f53ed3ec-e1e0-4448-a63b-c6863162f0a7",
   "metadata": {},
   "outputs": [],
   "source": [
    "def savecoffee(x):\n",
    "    xhist = coffee[x].hist()\n",
    "    fig = xhist.get_figure()\n",
    "    fig.savefig(output_folder/f'{x}.png')\n",
    "    fig.clf()"
   ]
  },
  {
   "cell_type": "code",
   "execution_count": 15,
   "id": "68407e11-d70d-4528-8705-39aa37a4cf3e",
   "metadata": {},
   "outputs": [
    {
     "data": {
      "image/png": "[encoded data removed]",
      "text/plain": [
       "<Figure size 432x288 with 1 Axes>"
      ]
     },
     "metadata": {
      "needs_background": "light"
     },
     "output_type": "display_data"
    }
   ],
   "source": [
    "savecoffee('aroma')"
   ]
  },
  {
   "cell_type": "code",
   "execution_count": 16,
   "id": "87be7a38-6e08-4afb-bac6-28d35de27bf7",
   "metadata": {},
   "outputs": [
    {
     "data": {
      "image/png": "[encoded data removed]",
      "text/plain": [
       "<Figure size 432x288 with 1 Axes>"
      ]
     },
     "metadata": {
      "needs_background": "light"
     },
     "output_type": "display_data"
    }
   ],
   "source": [
    "savecoffee('acid')"
   ]
  },
  {
   "cell_type": "code",
   "execution_count": 18,
   "id": "1b98ab01-9e90-490f-af79-14777a98e2ea",
   "metadata": {},
   "outputs": [
    {
     "data": {
      "text/plain": [
       "<Figure size 432x288 with 0 Axes>"
      ]
     },
     "metadata": {},
     "output_type": "display_data"
    }
   ],
   "source": [
    "savecoffee('body')"
   ]
  },
  {
   "cell_type": "code",
   "execution_count": 19,
   "id": "e61d335b-49de-4876-bf1b-4fce609ca725",
   "metadata": {},
   "outputs": [
    {
     "data": {
      "text/plain": [
       "<Figure size 432x288 with 0 Axes>"
      ]
     },
     "metadata": {},
     "output_type": "display_data"
    }
   ],
   "source": [
    "savecoffee('flavor')"
   ]
  },
  {
   "cell_type": "code",
   "execution_count": 23,
   "id": "66803c86-b0a1-494a-86ce-f2f6b5a2f2d6",
   "metadata": {},
   "outputs": [
    {
     "data": {
      "text/plain": [
       "<Figure size 432x288 with 0 Axes>"
      ]
     },
     "metadata": {},
     "output_type": "display_data"
    }
   ],
   "source": [
    "savecoffee('aftertaste')"
   ]
  },
  {
   "cell_type": "code",
   "execution_count": null,
   "id": "b822e94b-10a8-4ae3-a210-037572f89225",
   "metadata": {},
   "outputs": [],
   "source": []
  }
 ],
 "metadata": {
  "kernelspec": {
   "display_name": "Python 3 (ipykernel)",
   "language": "python",
   "name": "python3"
  },
  "language_info": {
   "codemirror_mode": {
    "name": "ipython",
    "version": 3
   },
   "file_extension": ".py",
   "mimetype": "text/x-python",
   "name": "python",
   "nbconvert_exporter": "python",
   "pygments_lexer": "ipython3",
   "version": "3.10.8"
  }
 },
 "nbformat": 4,
 "nbformat_minor": 5
}
